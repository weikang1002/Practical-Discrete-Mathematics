{
  "cells": [
    {
      "cell_type": "markdown",
      "metadata": {
        "id": "view-in-github",
        "colab_type": "text"
      },
      "source": [
        "<a href=\"https://colab.research.google.com/github/weikang1002/Practical-Discrete-Mathematics/blob/master/Chapter%2001%20-%20Introduction/.ipynb_checkpoints/Chapter1-checkpoint.ipynb\" target=\"_parent\"><img src=\"https://colab.research.google.com/assets/colab-badge.svg\" alt=\"Open In Colab\"/></a>"
      ]
    },
    {
      "cell_type": "markdown",
      "metadata": {
        "id": "hz62KBDOo3rk"
      },
      "source": [
        "# Chapter 1 - Introduction: Key Concepts, Notation, Set Theory, Relations, and Functions\n",
        "\n",
        "This notebook contains code accompanying Chapter 1 Introduction: Key Concepts, Notation, Set Theory, Relations, and Functions in *Practical Discrete Mathematics* by Ryan T. White and Archana Tikayat Ray\n",
        "\n",
        "## Functions and Relations\n",
        "\n",
        "### The `sort()` function"
      ]
    },
    {
      "cell_type": "code",
      "execution_count": null,
      "metadata": {
        "id": "ZExnEqBoo3rm",
        "outputId": "f0f3573e-446a-45b4-8ff5-b1be22c52216"
      },
      "outputs": [
        {
          "name": "stdout",
          "output_type": "stream",
          "text": [
            "[1, 2, 3, 4, 5, 8, 9, 12]\n",
            "['Brandon', 'Elise', 'Eugene', 'Kumar', 'Wyatt']\n"
          ]
        }
      ],
      "source": [
        "numbers = [3, 1, 4, 12, 8, 5, 2, 9]\n",
        "names = ['Wyatt', 'Brandon', 'Kumar', 'Eugene', 'Elise']\n",
        "\n",
        "# Apply the sort() function to the lists\n",
        "numbers.sort()\n",
        "names.sort()\n",
        "\n",
        "# Display the output\n",
        "print(numbers)\n",
        "print(names)"
      ]
    },
    {
      "cell_type": "markdown",
      "metadata": {
        "id": "ozkkheg0o3rn"
      },
      "source": [
        "### The `shuffle()` function"
      ]
    },
    {
      "cell_type": "code",
      "execution_count": null,
      "metadata": {
        "id": "4i5DU-Fqo3rn",
        "outputId": "29263442-6e71-4a76-eb78-7094fb3cfb0d"
      },
      "outputs": [
        {
          "name": "stdout",
          "output_type": "stream",
          "text": [
            "[12, 2, 1, 5, 9, 3, 8, 4]\n",
            "[4, 2, 8, 3, 1, 12, 5, 9]\n",
            "[4, 5, 1, 9, 3, 8, 12, 2]\n",
            "[9, 12, 2, 8, 5, 3, 4, 1]\n",
            "[9, 8, 4, 3, 12, 1, 5, 2]\n"
          ]
        }
      ],
      "source": [
        "import random\n",
        "\n",
        "# Set a random seed so the code is reproducible\n",
        "random.seed(1)\n",
        "\n",
        "# Run the random.shuffle() function 5 times and display the outputs\n",
        "for i in range(0,5):\n",
        "    numbers = [3, 1, 4, 12, 8, 5, 2, 9]\n",
        "    random.shuffle(numbers)\n",
        "    print(numbers)"
      ]
    },
    {
      "cell_type": "markdown",
      "source": [
        "**Question:Request user input of a simple proposition statement. Create a truth table**"
      ],
      "metadata": {
        "id": "sc5WmgBew2l_"
      }
    },
    {
      "cell_type": "code",
      "source": [
        "# prompt: Request user input of a simple proposition statement. Create a truth table  p and q\n",
        "\n",
        "def truth_table(p, q):\n",
        "    \"\"\"Generates a truth table for two propositions.\"\"\"\n",
        "    print(\"p\\tq\\t(p and q)\\t(p or q)\\t(not p)\\t(p implies q)\")\n",
        "    print(\"-\" * 50)\n",
        "    for p_val in [True, False]:\n",
        "        for q_val in [True, False]:\n",
        "            p_and_q = p_val and q_val\n",
        "            p_or_q = p_val or q_val\n",
        "            not_p = not p_val\n",
        "            p_implies_q = (not p_val) or q_val  # Implication equivalence\n",
        "\n",
        "            print(f\"{p_val}\\t{q_val}\\t{p_and_q}\\t\\t{p_or_q}\\t\\t{not_p}\\t\\t{p_implies_q}\")\n",
        "\n",
        "# Example usage (replace with user input if needed)\n",
        "truth_table(True, False)"
      ],
      "metadata": {
        "id": "mbTgYpN713ff",
        "outputId": "e105a321-bb6c-4f27-e4d1-22cb8d3d5ed2",
        "colab": {
          "base_uri": "https://localhost:8080/"
        }
      },
      "execution_count": 3,
      "outputs": [
        {
          "output_type": "stream",
          "name": "stdout",
          "text": [
            "p\tq\t(p and q)\t(p or q)\t(not p)\t(p implies q)\n",
            "--------------------------------------------------\n",
            "True\tTrue\tTrue\t\tTrue\t\tFalse\t\tTrue\n",
            "True\tFalse\tFalse\t\tTrue\t\tFalse\t\tFalse\n",
            "False\tTrue\tFalse\t\tTrue\t\tTrue\t\tTrue\n",
            "False\tFalse\tFalse\t\tFalse\t\tTrue\t\tTrue\n"
          ]
        }
      ]
    }
  ],
  "metadata": {
    "kernelspec": {
      "display_name": "Python 3.7 (DL)",
      "language": "python",
      "name": "dl"
    },
    "language_info": {
      "codemirror_mode": {
        "name": "ipython",
        "version": 3
      },
      "file_extension": ".py",
      "mimetype": "text/x-python",
      "name": "python",
      "nbconvert_exporter": "python",
      "pygments_lexer": "ipython3",
      "version": "3.7.7"
    },
    "colab": {
      "provenance": [],
      "include_colab_link": true
    }
  },
  "nbformat": 4,
  "nbformat_minor": 0
}