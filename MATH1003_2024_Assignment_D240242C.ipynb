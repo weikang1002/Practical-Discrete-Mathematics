{
  "nbformat": 4,
  "nbformat_minor": 0,
  "metadata": {
    "colab": {
      "provenance": [],
      "authorship_tag": "ABX9TyNVmNiic54tPTfzCpd4zUS+",
      "include_colab_link": true
    },
    "kernelspec": {
      "name": "python3",
      "display_name": "Python 3"
    },
    "language_info": {
      "name": "python"
    }
  },
  "cells": [
    {
      "cell_type": "markdown",
      "metadata": {
        "id": "view-in-github",
        "colab_type": "text"
      },
      "source": [
        "<a href=\"https://colab.research.google.com/github/weikang1002/Practical-Discrete-Mathematics/blob/master/MATH1003_2024_Assignment_D240242C.ipynb\" target=\"_parent\"><img src=\"https://colab.research.google.com/assets/colab-badge.svg\" alt=\"Open In Colab\"/></a>"
      ]
    },
    {
      "cell_type": "markdown",
      "source": [
        "Q1. Complete the following question adopted from About - Project Euler\n",
        "a. You are given the following information, but you may prefer to do some\n",
        "research for yourself.\n",
        "1 Jan 1900 was a Monday.\n",
        "Thirty days has September,\n",
        "April, June, and November.\n",
        "All the rest have thirty-one,\n",
        "Saving February alone,\n",
        "Which has twenty-eight, rain or shine.\n",
        "And on leap years, twenty-nine.\n",
        "A leap year occurs on any year evenly divisible by 4, but not on a century unless it\n",
        "is divisible by 400.\n",
        "How many Sundays fell on the first of the month during the twentieth century\n",
        "(1 Jan 1901 to 31 Dec 2000)?"
      ],
      "metadata": {
        "id": "7-tTyK6yF6TM"
      }
    },
    {
      "cell_type": "code",
      "source": [
        "# prompt: Q1. Complete the following question adopted from About - Project Euler\n",
        "# a. You are given the following information, but you may prefer to do some\n",
        "# research for yourself.\n",
        "# 1 Jan 1900 was a Monday.\n",
        "# Thirty days has September,\n",
        "# April, June, and November.\n",
        "# All the rest have thirty-one,\n",
        "# Saving February alone,\n",
        "# Which has twenty-eight, rain or shine.\n",
        "# And on leap years, twenty-nine.\n",
        "# A leap year occurs on any year evenly divisible by 4, but not on a century unless it\n",
        "# is divisible by 400.\n",
        "# How many Sundays fell on the first of the month during the twentieth century\n",
        "# (1 Jan 1901 to 31 Dec 2000)?\n",
        "\n",
        "def is_leap(year):\n",
        "  \"\"\"Determine if a year is a leap year.\"\"\"\n",
        "  return year % 4 == 0 and (year % 100 != 0 or year % 400 == 0)\n",
        "\n",
        "def days_in_month(month, year):\n",
        "  \"\"\"Return the number of days in a given month and year.\"\"\"\n",
        "  if month == 2:\n",
        "    return 29 if is_leap(year) else 28\n",
        "  elif month in [4, 6, 9, 11]:\n",
        "    return 30\n",
        "  else:\n",
        "    return 31\n",
        "\n",
        "def solve():\n",
        "  \"\"\"Solve the problem.\"\"\"\n",
        "  sundays_on_first = 0\n",
        "  day_of_week = 2  # 1 Jan 1901 was a Tuesday (1 Jan 1900 was Monday)\n",
        "\n",
        "  for year in range(1901, 2001):\n",
        "    for month in range(1, 13):\n",
        "      if day_of_week == 7:  # Sunday\n",
        "        sundays_on_first += 1\n",
        "      day_of_week = (day_of_week + days_in_month(month, year)) % 7\n",
        "      if day_of_week == 0:\n",
        "        day_of_week = 7\n",
        "  return sundays_on_first\n",
        "\n",
        "if __name__ == \"__main__\":\n",
        "  result = solve()\n",
        "result"
      ],
      "metadata": {
        "colab": {
          "base_uri": "https://localhost:8080/"
        },
        "id": "M_dj15WwGi3g",
        "outputId": "a7cb593b-220f-4242-e1cf-cc4dfa3b6ae5"
      },
      "execution_count": null,
      "outputs": [
        {
          "output_type": "execute_result",
          "data": {
            "text/plain": [
              "171"
            ]
          },
          "metadata": {},
          "execution_count": 2
        }
      ]
    },
    {
      "cell_type": "markdown",
      "source": [
        "b.if the numbers 1 to 5 are written out in words: one, two, three, four, five, then there are 3+3+5+4+4=19 letters used in total.\n",
        "\n",
        "If all the numbers from 1 to 1000 (one thousand) inclusive were written out in words, how many letters would be used?\n",
        "\n",
        "NOTE: Do not count spaces or hyphens. For example,342 (three hundred and forty-two) contains 23 letters and 115 (one hundred and fifteen) contains 20 letters. The use of \"and\" when writing out numbers is in compliance with British usage."
      ],
      "metadata": {
        "id": "O0CSdI_mH-6i"
      }
    },
    {
      "cell_type": "code",
      "source": [
        "# prompt: if the numbers 1 to 5 are written out in words: one, two, three, four, five, then there are 3+3+5+4+4=19 letters used in total.\n",
        "# If all the numbers from 1 to 1000 (one thousand) inclusive were written out in words, how many letters would be used?\n",
        "# NOTE: Do not count spaces or hyphens. For example,342 (three hundred and forty-two) contains 23 letters and 115 (one hundred and fifteen) contains 20 letters. The use of \"and\" when writing out numbers is in compliance with British usage.\n",
        "\n",
        "def number_letter_counts(n):\n",
        "    ones = [\"\", \"one\", \"two\", \"three\", \"four\", \"five\", \"six\", \"seven\", \"eight\", \"nine\", \"ten\", \"eleven\",\n",
        "            \"twelve\", \"thirteen\", \"fourteen\", \"fifteen\", \"sixteen\", \"seventeen\", \"eighteen\", \"nineteen\"]\n",
        "    tens = [\"\", \"\", \"twenty\", \"thirty\", \"forty\", \"fifty\", \"sixty\", \"seventy\", \"eighty\", \"ninety\"]\n",
        "\n",
        "    def convert(num):\n",
        "        if 0 <= num < 20:\n",
        "            return ones[num]\n",
        "        elif 20 <= num < 100:\n",
        "            return tens[num // 10] + (ones[num % 10] if (num % 10 != 0) else \"\")\n",
        "        elif 100 <= num < 1000:\n",
        "            return ones[num // 100] + \"hundred\" + (\"and\" + convert(num % 100) if (num % 100 != 0) else \"\")\n",
        "        elif num == 1000:\n",
        "            return \"onethousand\"\n",
        "        else:\n",
        "            return \"\"\n",
        "\n",
        "    count = 0\n",
        "    for i in range(1, n + 1):\n",
        "        count += len(convert(i))\n",
        "    return count\n",
        "\n",
        "result = number_letter_counts(1000)\n",
        "result"
      ],
      "metadata": {
        "colab": {
          "base_uri": "https://localhost:8080/"
        },
        "id": "xLZTLoTsIWhv",
        "outputId": "bed3aca3-1b87-45f5-99c3-c98fa92ea306"
      },
      "execution_count": null,
      "outputs": [
        {
          "output_type": "execute_result",
          "data": {
            "text/plain": [
              "21124"
            ]
          },
          "metadata": {},
          "execution_count": 3
        }
      ]
    },
    {
      "cell_type": "markdown",
      "source": [
        "c.The series,1¹+2²+3³...+10¹⁰=10405071317\n",
        "Find the last ten digits of the series,1¹+2²+3³+...+1000¹⁰⁰⁰"
      ],
      "metadata": {
        "id": "wzkrilEgKfyq"
      }
    },
    {
      "cell_type": "code",
      "source": [
        "# prompt: The series,1¹+2²+3³...+10¹⁰=10405071317 Find the last ten digits of the series,1¹+2²+3³+...+1000¹⁰⁰⁰\n",
        "\n",
        "def solve():\n",
        "    total_sum = 0\n",
        "    for i in range(1, 1001):\n",
        "        total_sum += (i ** i)\n",
        "    return str(total_sum)[-10:]\n",
        "\n",
        "result = solve()\n",
        "result"
      ],
      "metadata": {
        "colab": {
          "base_uri": "https://localhost:8080/",
          "height": 35
        },
        "id": "TgP5ugLLK-pe",
        "outputId": "10fafde4-32d6-4635-c29e-6d0f6ca8557d"
      },
      "execution_count": null,
      "outputs": [
        {
          "output_type": "execute_result",
          "data": {
            "text/plain": [
              "'9110846700'"
            ],
            "application/vnd.google.colaboratory.intrinsic+json": {
              "type": "string"
            }
          },
          "metadata": {},
          "execution_count": 4
        }
      ]
    },
    {
      "cell_type": "markdown",
      "source": [
        "d.Each character on a computer is assigned a unique code and the preferred standard is ASCII (American Standard Code for Information Interchange). For example, uppercase A = 65, asterisk (*) = 42, and lowercase k = 107.\n",
        "\n",
        "A modern encryption method is to take a text file, convert the bytes to ASCII, then XOR each byte with a given value, taken from a secret key. The advantage with the XOR function is that using the same encryption key on the cipher text, restores the plain text; for example, 65 XOR 42 = 107, then 107 XOR 42 = 65.\n",
        "\n",
        "For unbreakable encryption, the key is the same length as the plain text message, and the key is made up of random bytes. The user would keep the encrypted message and the encryption key in different locations, and without both \"halves\", it is impossible to decrypt the message.\n",
        "\n",
        "Unfortunately, this method is impractical for most users, so the modified method is to use a password as a key. If the password is shorter than the message, which is likely, the key is repeated cyclically throughout the message. The balance for this method is using a sufficiently long password key for security, but short enough to be memorable.\n",
        "\n",
        "Your task has been made easy, as the encryption key consists of three lower case characters. Using 0059_cipher.txt (right click and 'Save Link/Target As...'), a file containing the encrypted ASCII codes, and the knowledge that the plain text must contain common English words, decrypt the message and find the sum of the ASCII values in the original text."
      ],
      "metadata": {
        "id": "7vRbbM64LLnB"
      }
    },
    {
      "cell_type": "code",
      "source": [
        "# prompt: Each character on a computer is assigned a unique code and the preferred standard is ASCII (American Standard Code for Information Interchange). For example, uppercase A = 65, asterisk (*) = 42, and lowercase k = 107.\n",
        "# A modern encryption method is to take a text file, convert the bytes to ASCII, then XOR each byte with a given value, taken from a secret key. The advantage with the XOR function is that using the same encryption key on the cipher text, restores the plain text; for example, 65 XOR 42 = 107, then 107 XOR 42 = 65.\n",
        "# For unbreakable encryption, the key is the same length as the plain text message, and the key is made up of random bytes. The user would keep the encrypted message and the encryption key in different locations, and without both \"halves\", it is impossible to decrypt the message.\n",
        "# Unfortunately, this method is impractical for most users, so the modified method is to use a password as a key. If the password is shorter than the message, which is likely, the key is repeated cyclically throughout the message. The balance for this method is using a sufficiently long password key for security, but short enough to be memorable.\n",
        "# Your task has been made easy, as the encryption key consists of three lower case characters. Using 0059_cipher.txt (right click and 'Save Link/Target As...'), a file containing the encrypted ASCII codes, and the knowledge that the plain text must contain common English words, decrypt the message and find the sum of the ASCII values in the original text.0059_cipher.txt can be download from\n",
        "# https://projecteuler.net/resources/documents/0059_cipher.txt\n",
        "\n",
        "!wget https://projecteuler.net/resources/documents/0059_cipher.txt\n",
        "\n",
        "def solve():\n",
        "    with open(\"/content/0059_cipher.txt\", \"r\") as file:\n",
        "        cipher_text = [int(x) for x in file.read().strip().split(\",\")]\n",
        "\n",
        "    lower_a = ord('a')\n",
        "    lower_z = ord('z')\n",
        "\n",
        "    total_sum = 0\n",
        "\n",
        "    for key_1 in range(lower_a, lower_z + 1):\n",
        "        for key_2 in range(lower_a, lower_z + 1):\n",
        "            for key_3 in range(lower_a, lower_z + 1):\n",
        "                key = [key_1, key_2, key_3]\n",
        "                plain_text = []\n",
        "                for i, char_code in enumerate(cipher_text):\n",
        "                    plain_text.append(char_code ^ key[i % 3])\n",
        "\n",
        "                decrypted_text = \"\".join(chr(char) for char in plain_text)\n",
        "                if \" the \" in decrypted_text and \"and\" in decrypted_text:\n",
        "                    total_sum = sum(plain_text)\n",
        "                    print(\"Decrypted Text:\\n\", decrypted_text)\n",
        "                    return total_sum\n",
        "    return total_sum\n",
        "\n",
        "result = solve()\n",
        "print(\"Sum of ASCII values in original text:\", result)"
      ],
      "metadata": {
        "colab": {
          "base_uri": "https://localhost:8080/"
        },
        "id": "uwpAiezqLVOL",
        "outputId": "542cd181-f7c9-494f-8571-b51be2a44643"
      },
      "execution_count": 1,
      "outputs": [
        {
          "output_type": "stream",
          "name": "stdout",
          "text": [
            "--2024-12-31 00:51:34--  https://projecteuler.net/resources/documents/0059_cipher.txt\n",
            "Resolving projecteuler.net (projecteuler.net)... 185.151.30.128, 2a07:7800::128\n",
            "Connecting to projecteuler.net (projecteuler.net)|185.151.30.128|:443... connected.\n",
            "HTTP request sent, awaiting response... 200 \n",
            "Length: unspecified [text/plain]\n",
            "Saving to: ‘0059_cipher.txt’\n",
            "\n",
            "0059_cipher.txt         [ <=>                ]   3.97K  --.-KB/s    in 0s      \n",
            "\n",
            "2024-12-31 00:51:35 (671 MB/s) - ‘0059_cipher.txt’ saved [4062]\n",
            "\n",
            "Decrypted Text:\n",
            " An extract taken from the introduction of one of Euler's most celebrated papers, \"De summis serierum reciprocarum\" [On the sums of series of reciprocals]: I have recently found, quite unexpectedly, an elegant expression for the entire sum of this series 1 + 1/4 + 1/9 + 1/16 + etc., which depends on the quadrature of the circle, so that if the true sum of this series is obtained, from it at once the quadrature of the circle follows. Namely, I have found that the sum of this series is a sixth part of the square of the perimeter of the circle whose diameter is 1; or by putting the sum of this series equal to s, it has the ratio sqrt(6) multiplied by s to 1 of the perimeter to the diameter. I will soon show that the sum of this series to be approximately 1.644934066842264364; and from multiplying this number by six, and then taking the square root, the number 3.141592653589793238 is indeed produced, which expresses the perimeter of a circle whose diameter is 1. Following again the same steps by which I had arrived at this sum, I have discovered that the sum of the series 1 + 1/16 + 1/81 + 1/256 + 1/625 + etc. also depends on the quadrature of the circle. Namely, the sum of this multiplied by 90 gives the biquadrate (fourth power) of the circumference of the perimeter of a circle whose diameter is 1. And by similar reasoning I have likewise been able to determine the sums of the subsequent series in which the exponents are even numbers.\n",
            "Sum of ASCII values in original text: 129448\n"
          ]
        }
      ]
    },
    {
      "cell_type": "markdown",
      "source": [
        "Q2. Analyse the time complexity of the following algorithm. (25 marks)\n",
        "a. Linear search\n",
        "b. Bubble sort\n",
        "c. Binary search\n",
        "d. Radix sort\n",
        "e. Heap sort"
      ],
      "metadata": {
        "id": "CDLqf5ITMMDJ"
      }
    },
    {
      "cell_type": "code",
      "source": [
        "# prompt: Q2. Analyse the time complexity of the following algorithm. (25 marks)\n",
        "# a. Linear search\n",
        "# b. Bubble sort\n",
        "# c. Binary search\n",
        "# d. Radix sort\n",
        "# e. Heap sort\n",
        "\n",
        "# Q2. Analyse the time complexity of the following algorithm. (25 marks)\n",
        "# a. Linear search\n",
        "# b. Bubble sort\n",
        "# c. Binary search\n",
        "# d. Radix sort\n",
        "# e. Heap sort\n",
        "\n",
        "# Time Complexity Analysis:\n",
        "\n",
        "# a. Linear Search:\n",
        "#   - Best Case: O(1) - The target element is found at the beginning of the list.\n",
        "#   - Average Case: O(n) - The target element is found somewhere in the middle of the list.\n",
        "#   - Worst Case: O(n) - The target element is not in the list, or it's at the end.\n",
        "\n",
        "# b. Bubble Sort:\n",
        "#   - Best Case: O(n) - The list is already sorted.\n",
        "#   - Average Case: O(n^2) - The list is randomly ordered.\n",
        "#   - Worst Case: O(n^2) - The list is in reverse order.\n",
        "\n",
        "# c. Binary Search:\n",
        "#   - Best Case: O(1) - The target element is found in the middle of the list.\n",
        "#   - Average Case: O(log n) - The target element is found after a few comparisons.\n",
        "#   - Worst Case: O(log n) - The target element is not found in the list, or it's at one of the ends.\n",
        "#   - *Important*: Binary search requires the input list to be sorted.\n",
        "\n",
        "# d. Radix Sort:\n",
        "#   - Best Case: O(nk) - where n is the number of elements and k is the number of digits/passes.\n",
        "#   - Average Case: O(nk)\n",
        "#   - Worst Case: O(nk)\n",
        "#   - *Important*: Radix sort's efficiency depends on the range of input values.\n",
        "\n",
        "# e. Heap Sort:\n",
        "#   - Best Case: O(n log n)\n",
        "#   - Average Case: O(n log n)\n",
        "#   - Worst Case: O(n log n)\n",
        "#   - Heap sort is efficient regardless of the initial order of the input data."
      ],
      "metadata": {
        "id": "1nTJWVQtMMpy"
      },
      "execution_count": 2,
      "outputs": []
    },
    {
      "cell_type": "markdown",
      "source": [
        "Q3. You are working on a social media platform where users can follow each other. The\n",
        "platform wants to implement a feature to suggest new friends to users based on mutual\n",
        "connections. Write a Python function suggest_friends(graph, user) that takes in a graph\n",
        "representing social network and a specific user and return a list of suggested friends for\n",
        "that user. The graph is represented as an adjacency list, where the keys are user IDs,\n",
        "and the values are lists of user IDs that the key user follows.\n",
        "Requirements:\n",
        "a. Graph representation: the graph is represented as a dictionary where each key is\n",
        "a user ID and the value is a list of user IDs that the key user follows. (5 marks)\n",
        "b. Mutual connection: the function should suggest friends based on the number of\n",
        "mutual connections. A mutual connection is a user who is followed by both the\n",
        "given user and another user. (10 marks)\n",
        "c. Sorting: the suggested friend should be sorted in descending order of the number\n",
        "of mutual connections. (5 marks)\n",
        "3\n",
        "4\n",
        "d. Exclusion: The function should NOT suggest users who are already followed\n",
        "by the given user or the user themselves. (5 marks)"
      ],
      "metadata": {
        "id": "tpzWjm7nRMmt"
      }
    },
    {
      "cell_type": "code",
      "source": [
        "# prompt: Q3. You are working on a social media platform where users can follow each other. The\n",
        "# platform wants to implement a feature to suggest new friends to users based on mutual\n",
        "# connections. Write a Python function suggest_friends(graph, user) that takes in a graph\n",
        "# representing social network and a specific user and return a list of suggested friends for\n",
        "# that user. The graph is represented as an adjacency list, where the keys are user IDs,\n",
        "# and the values are lists of user IDs that the key user follows.\n",
        "# Requirements:\n",
        "# a. Graph representation: the graph is represented as a dictionary where each key is\n",
        "# a user ID and the value is a list of user IDs that the key user follows. (5 marks)\n",
        "# b. Mutual connection: the function should suggest friends based on the number of\n",
        "# mutual connections. A mutual connection is a user who is followed by both the\n",
        "# given user and another user. (10 marks)\n",
        "# c. Sorting: the suggested friend should be sorted in descending order of the number\n",
        "# of mutual connections. (5 marks)\n",
        "# 3\n",
        "# 4\n",
        "# d. Exclusion: The function should NOT suggest users who are already followed\n",
        "# by the given user or the user themselves. (5 marks)\n",
        "\n",
        "def suggest_friends(graph, user):\n",
        "    \"\"\"\n",
        "    Suggests new friends for a user based on mutual connections.\n",
        "\n",
        "    Args:\n",
        "        graph: A dictionary representing the social network graph.\n",
        "        user: The ID of the user for whom to suggest friends.\n",
        "\n",
        "    Returns:\n",
        "        A list of suggested friend IDs, sorted by the number of mutual connections\n",
        "        in descending order.\n",
        "    \"\"\"\n",
        "\n",
        "    if user not in graph:\n",
        "        return []  # User not in the graph\n",
        "\n",
        "    suggested_friends = {}\n",
        "    for friend in graph[user]:\n",
        "        for other_user in graph:\n",
        "            if other_user != user and other_user not in graph[user]:  # Exclude self and already followed users\n",
        "                mutual_connections = 0\n",
        "                if other_user in graph:\n",
        "                  for mutual in graph[user]:\n",
        "                      if mutual in graph[other_user] and mutual != other_user and mutual!=user:\n",
        "                        mutual_connections += 1\n",
        "                if mutual_connections > 0:\n",
        "                  if other_user not in suggested_friends:\n",
        "                    suggested_friends[other_user] = 0\n",
        "                  suggested_friends[other_user] = mutual_connections\n",
        "\n",
        "    # Sort suggested friends by number of mutual connections in descending order\n",
        "    sorted_suggestions = sorted(suggested_friends.items(), key=lambda item: item[1], reverse=True)\n",
        "\n",
        "    return [user_id for user_id, _ in sorted_suggestions]"
      ],
      "metadata": {
        "id": "ADMV3k0fTyS9"
      },
      "execution_count": 3,
      "outputs": []
    },
    {
      "cell_type": "markdown",
      "source": [
        "Q4. You are tasked with creating a decision tree classifier to sort new students into one of\n",
        "the four Hogwarts houses: Gryffindor, Hufflepuff, Ravenclaw or Slytherin. The dataset\n",
        "contains various attributes of students such as bravery, loyalty, intelligence, and\n",
        "ambition.\n",
        "Dataset:\n",
        "The dataset is provided in a CSV file named hogwarts_students.csv with the following\n",
        "columns:\n",
        "• Bravery: a score from 1 to 10 indicating the student’s bravery.\n",
        "• Loyalty: a score from 1 to 10 indicating the student’s loyalty.\n",
        "• Intelligence: a score from 1 to 10 indicating the student’s intelligence\n",
        "• Ambition: a score from 1 to 10 indicating the student’s ambition.\n",
        "• House: the house the student belongs to Gryffindor, Hufflepuff, Ravenclaw or\n",
        "Slytherin\n",
        "Tasks:\n",
        "a. Data loading and preprocessing (5 marks)\n",
        "• Load the dataset from the CSV file\n",
        "• Handle any missing values if present\n",
        "b. Feature selection and splitting (5 marks)\n",
        "c. Model training (5 marks)\n",
        "d. Model evaluation with chart (5 marks)\n",
        "e. Prediction (5 marks)\n",
        "[Total: 25 marks]"
      ],
      "metadata": {
        "id": "JRVkWBGpQKV8"
      }
    },
    {
      "cell_type": "code",
      "source": [
        "import pandas as pd\n",
        "from sklearn.tree import DecisionTreeClassifier\n",
        "from sklearn.model_selection import train_test_split\n",
        "from sklearn.metrics import accuracy_score, classification_report, confusion_matrix\n",
        "import matplotlib.pyplot as plt\n",
        "import seaborn as sns\n",
        "import os\n",
        "\n",
        "# Create a dummy CSV file for testing if it doesn't exist\n",
        "if not os.path.exists('hogwarts_students.csv'):\n",
        "    dummy_data = {\n",
        "        'Bravery': [7, 2, 9, 4, 8],\n",
        "        'Loyalty': [9, 8, 3, 7, 2],\n",
        "        'Intelligence': [6, 9, 7, 3, 8],\n",
        "        'Ambition': [3, 7, 8, 9, 2],\n",
        "        'House': ['Gryffindor', 'Hufflepuff', 'Ravenclaw', 'Slytherin', 'Gryffindor']\n",
        "    }\n",
        "    dummy_df = pd.DataFrame(dummy_data)\n",
        "    dummy_df.to_csv('hogwarts_students.csv', index=False)\n",
        "\n",
        "# a. Data loading and preprocessing\n",
        "try:\n",
        "    df = pd.read_csv('hogwarts_students.csv')\n",
        "    # Handle missing values (if any) - Example using mean imputation\n",
        "    for col in ['Bravery', 'Loyalty', 'Intelligence', 'Ambition']:\n",
        "        df[col].fillna(df[col].mean(), inplace=True)\n",
        "except FileNotFoundError:\n",
        "    print(\"Error: 'hogwarts_students.csv' not found. Please upload the dataset.\")\n",
        "    #exit() #Removed the exit function as this prevents the rest of the code from being analysed\n",
        "    df = None # set df to None so the code does not fail on next error\n",
        "\n",
        "\n",
        "if df is not None:\n",
        "    # b. Feature selection and splitting\n",
        "    X = df[['Bravery', 'Loyalty', 'Intelligence', 'Ambition']]\n",
        "    y = df['House']\n",
        "    X_train, X_test, y_train, y_test = train_test_split(X, y, test_size=0.2, random_state=42)\n",
        "\n",
        "\n",
        "    # c. Model training\n",
        "    model = DecisionTreeClassifier()\n",
        "    model.fit(X_train, y_train)\n",
        "\n",
        "    # d. Model evaluation\n",
        "    y_pred = model.predict(X_test)\n",
        "    accuracy = accuracy_score(y_test, y_pred)\n",
        "    print(f\"Accuracy: {accuracy}\")\n",
        "    print(classification_report(y_test, y_pred))\n",
        "\n",
        "    # Confusion Matrix\n",
        "    cm = confusion_matrix(y_test, y_pred)\n",
        "    plt.figure(figsize=(8, 6))\n",
        "    sns.heatmap(cm, annot=True, fmt='d', cmap='Blues',\n",
        "                xticklabels=model.classes_, yticklabels=model.classes_)\n",
        "    plt.xlabel('Predicted')\n",
        "    plt.ylabel('Actual')\n",
        "    plt.title('Confusion Matrix')\n",
        "    plt.show()\n",
        "\n",
        "\n",
        "    # e. Prediction\n",
        "    # Example prediction for a new student\n",
        "    new_student = pd.DataFrame({'Bravery': [7], 'Loyalty': [9], 'Intelligence': [6], 'Ambition': [3]})\n",
        "    predicted_house = model.predict(new_student)\n",
        "    print(f\"Predicted house for the new student: {predicted_house[0]}\")"
      ],
      "metadata": {
        "colab": {
          "base_uri": "https://localhost:8080/",
          "height": 833
        },
        "id": "-wu4jCMGQbmy",
        "outputId": "b2cf7c92-cbc5-4999-85fc-af7656223cec"
      },
      "execution_count": 4,
      "outputs": [
        {
          "output_type": "stream",
          "name": "stderr",
          "text": [
            "<ipython-input-4-15e836402cc9>:26: FutureWarning: A value is trying to be set on a copy of a DataFrame or Series through chained assignment using an inplace method.\n",
            "The behavior will change in pandas 3.0. This inplace method will never work because the intermediate object on which we are setting values always behaves as a copy.\n",
            "\n",
            "For example, when doing 'df[col].method(value, inplace=True)', try using 'df.method({col: value}, inplace=True)' or df[col] = df[col].method(value) instead, to perform the operation inplace on the original object.\n",
            "\n",
            "\n",
            "  df[col].fillna(df[col].mean(), inplace=True)\n",
            "/usr/local/lib/python3.10/dist-packages/sklearn/metrics/_classification.py:1565: UndefinedMetricWarning: Precision is ill-defined and being set to 0.0 in labels with no predicted samples. Use `zero_division` parameter to control this behavior.\n",
            "  _warn_prf(average, modifier, f\"{metric.capitalize()} is\", len(result))\n",
            "/usr/local/lib/python3.10/dist-packages/sklearn/metrics/_classification.py:1565: UndefinedMetricWarning: Recall is ill-defined and being set to 0.0 in labels with no true samples. Use `zero_division` parameter to control this behavior.\n",
            "  _warn_prf(average, modifier, f\"{metric.capitalize()} is\", len(result))\n",
            "/usr/local/lib/python3.10/dist-packages/sklearn/metrics/_classification.py:1565: UndefinedMetricWarning: Precision is ill-defined and being set to 0.0 in labels with no predicted samples. Use `zero_division` parameter to control this behavior.\n",
            "  _warn_prf(average, modifier, f\"{metric.capitalize()} is\", len(result))\n",
            "/usr/local/lib/python3.10/dist-packages/sklearn/metrics/_classification.py:1565: UndefinedMetricWarning: Recall is ill-defined and being set to 0.0 in labels with no true samples. Use `zero_division` parameter to control this behavior.\n",
            "  _warn_prf(average, modifier, f\"{metric.capitalize()} is\", len(result))\n",
            "/usr/local/lib/python3.10/dist-packages/sklearn/metrics/_classification.py:1565: UndefinedMetricWarning: Precision is ill-defined and being set to 0.0 in labels with no predicted samples. Use `zero_division` parameter to control this behavior.\n",
            "  _warn_prf(average, modifier, f\"{metric.capitalize()} is\", len(result))\n",
            "/usr/local/lib/python3.10/dist-packages/sklearn/metrics/_classification.py:1565: UndefinedMetricWarning: Recall is ill-defined and being set to 0.0 in labels with no true samples. Use `zero_division` parameter to control this behavior.\n",
            "  _warn_prf(average, modifier, f\"{metric.capitalize()} is\", len(result))\n"
          ]
        },
        {
          "output_type": "stream",
          "name": "stdout",
          "text": [
            "Accuracy: 0.0\n",
            "              precision    recall  f1-score   support\n",
            "\n",
            "  Hufflepuff       0.00      0.00      0.00       1.0\n",
            "   Ravenclaw       0.00      0.00      0.00       0.0\n",
            "\n",
            "    accuracy                           0.00       1.0\n",
            "   macro avg       0.00      0.00      0.00       1.0\n",
            "weighted avg       0.00      0.00      0.00       1.0\n",
            "\n"
          ]
        },
        {
          "output_type": "display_data",
          "data": {
            "text/plain": [
              "<Figure size 800x600 with 2 Axes>"
            ],
            "image/png": "[encoded data removed]"
          },
          "metadata": {}
        },
        {
          "output_type": "stream",
          "name": "stdout",
          "text": [
            "Predicted house for the new student: Gryffindor\n"
          ]
        }
      ]
    }
  ]
}